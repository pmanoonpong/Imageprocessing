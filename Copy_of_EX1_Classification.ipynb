{
  "nbformat": 4,
  "nbformat_minor": 0,
  "metadata": {
    "colab": {
      "name": "Copy of EX1_Classification.ipynb",
      "provenance": [],
      "collapsed_sections": [],
      "include_colab_link": true
    },
    "kernelspec": {
      "name": "python3",
      "display_name": "Python 3"
    },
    "widgets": {
      "application/vnd.jupyter.widget-state+json": {
        "f43bdd9cabc24297953a3a73f6163a39": {
          "model_module": "@jupyter-widgets/controls",
          "model_name": "HBoxModel",
          "state": {
            "_view_name": "HBoxView",
            "_dom_classes": [],
            "_model_name": "HBoxModel",
            "_view_module": "@jupyter-widgets/controls",
            "_model_module_version": "1.5.0",
            "_view_count": null,
            "_view_module_version": "1.5.0",
            "box_style": "",
            "layout": "IPY_MODEL_c6574ebc6e4d49a296e36b9635ae53cc",
            "_model_module": "@jupyter-widgets/controls",
            "children": [
              "IPY_MODEL_42292464919f4243b53269ab92114806",
              "IPY_MODEL_6a681ffcbefc4dfd88f5c70329ace668"
            ]
          },
          "model_module_version": "1.5.0"
        },
        "c6574ebc6e4d49a296e36b9635ae53cc": {
          "model_module": "@jupyter-widgets/base",
          "model_name": "LayoutModel",
          "state": {
            "_view_name": "LayoutView",
            "grid_template_rows": null,
            "right": null,
            "justify_content": null,
            "_view_module": "@jupyter-widgets/base",
            "overflow": null,
            "_model_module_version": "1.2.0",
            "_view_count": null,
            "flex_flow": null,
            "width": null,
            "min_width": null,
            "border": null,
            "align_items": null,
            "bottom": null,
            "_model_module": "@jupyter-widgets/base",
            "top": null,
            "grid_column": null,
            "overflow_y": null,
            "overflow_x": null,
            "grid_auto_flow": null,
            "grid_area": null,
            "grid_template_columns": null,
            "flex": null,
            "_model_name": "LayoutModel",
            "justify_items": null,
            "grid_row": null,
            "max_height": null,
            "align_content": null,
            "visibility": null,
            "align_self": null,
            "height": null,
            "min_height": null,
            "padding": null,
            "grid_auto_rows": null,
            "grid_gap": null,
            "max_width": null,
            "order": null,
            "_view_module_version": "1.2.0",
            "grid_template_areas": null,
            "object_position": null,
            "object_fit": null,
            "grid_auto_columns": null,
            "margin": null,
            "display": null,
            "left": null
          },
          "model_module_version": "1.2.0"
        },
        "42292464919f4243b53269ab92114806": {
          "model_module": "@jupyter-widgets/controls",
          "model_name": "FloatProgressModel",
          "state": {
            "_view_name": "ProgressView",
            "style": "IPY_MODEL_f3f2b81d339746e19ddd85fb06235578",
            "_dom_classes": [],
            "description": "",
            "_model_name": "FloatProgressModel",
            "bar_style": "info",
            "max": 1,
            "_view_module": "@jupyter-widgets/controls",
            "_model_module_version": "1.5.0",
            "value": 1,
            "_view_count": null,
            "_view_module_version": "1.5.0",
            "orientation": "horizontal",
            "min": 0,
            "description_tooltip": null,
            "_model_module": "@jupyter-widgets/controls",
            "layout": "IPY_MODEL_0bbaa43afed341a0823b21ca849c989d"
          },
          "model_module_version": "1.5.0"
        },
        "6a681ffcbefc4dfd88f5c70329ace668": {
          "model_module": "@jupyter-widgets/controls",
          "model_name": "HTMLModel",
          "state": {
            "_view_name": "HTMLView",
            "style": "IPY_MODEL_f825475c852e4a7f8ef9b13111b79c75",
            "_dom_classes": [],
            "description": "",
            "_model_name": "HTMLModel",
            "placeholder": "​",
            "_view_module": "@jupyter-widgets/controls",
            "_model_module_version": "1.5.0",
            "value": " 26427392/? [00:20&lt;00:00, 13042928.23it/s]",
            "_view_count": null,
            "_view_module_version": "1.5.0",
            "description_tooltip": null,
            "_model_module": "@jupyter-widgets/controls",
            "layout": "IPY_MODEL_c69d252b07334cf690c1c207af4edc8c"
          },
          "model_module_version": "1.5.0"
        },
        "f3f2b81d339746e19ddd85fb06235578": {
          "model_module": "@jupyter-widgets/controls",
          "model_name": "ProgressStyleModel",
          "state": {
            "_view_name": "StyleView",
            "_model_name": "ProgressStyleModel",
            "description_width": "initial",
            "_view_module": "@jupyter-widgets/base",
            "_model_module_version": "1.5.0",
            "_view_count": null,
            "_view_module_version": "1.2.0",
            "bar_color": null,
            "_model_module": "@jupyter-widgets/controls"
          },
          "model_module_version": "1.5.0"
        },
        "0bbaa43afed341a0823b21ca849c989d": {
          "model_module": "@jupyter-widgets/base",
          "model_name": "LayoutModel",
          "state": {
            "_view_name": "LayoutView",
            "grid_template_rows": null,
            "right": null,
            "justify_content": null,
            "_view_module": "@jupyter-widgets/base",
            "overflow": null,
            "_model_module_version": "1.2.0",
            "_view_count": null,
            "flex_flow": null,
            "width": null,
            "min_width": null,
            "border": null,
            "align_items": null,
            "bottom": null,
            "_model_module": "@jupyter-widgets/base",
            "top": null,
            "grid_column": null,
            "overflow_y": null,
            "overflow_x": null,
            "grid_auto_flow": null,
            "grid_area": null,
            "grid_template_columns": null,
            "flex": null,
            "_model_name": "LayoutModel",
            "justify_items": null,
            "grid_row": null,
            "max_height": null,
            "align_content": null,
            "visibility": null,
            "align_self": null,
            "height": null,
            "min_height": null,
            "padding": null,
            "grid_auto_rows": null,
            "grid_gap": null,
            "max_width": null,
            "order": null,
            "_view_module_version": "1.2.0",
            "grid_template_areas": null,
            "object_position": null,
            "object_fit": null,
            "grid_auto_columns": null,
            "margin": null,
            "display": null,
            "left": null
          },
          "model_module_version": "1.2.0"
        },
        "f825475c852e4a7f8ef9b13111b79c75": {
          "model_module": "@jupyter-widgets/controls",
          "model_name": "DescriptionStyleModel",
          "state": {
            "_view_name": "StyleView",
            "_model_name": "DescriptionStyleModel",
            "description_width": "",
            "_view_module": "@jupyter-widgets/base",
            "_model_module_version": "1.5.0",
            "_view_count": null,
            "_view_module_version": "1.2.0",
            "_model_module": "@jupyter-widgets/controls"
          },
          "model_module_version": "1.5.0"
        },
        "c69d252b07334cf690c1c207af4edc8c": {
          "model_module": "@jupyter-widgets/base",
          "model_name": "LayoutModel",
          "state": {
            "_view_name": "LayoutView",
            "grid_template_rows": null,
            "right": null,
            "justify_content": null,
            "_view_module": "@jupyter-widgets/base",
            "overflow": null,
            "_model_module_version": "1.2.0",
            "_view_count": null,
            "flex_flow": null,
            "width": null,
            "min_width": null,
            "border": null,
            "align_items": null,
            "bottom": null,
            "_model_module": "@jupyter-widgets/base",
            "top": null,
            "grid_column": null,
            "overflow_y": null,
            "overflow_x": null,
            "grid_auto_flow": null,
            "grid_area": null,
            "grid_template_columns": null,
            "flex": null,
            "_model_name": "LayoutModel",
            "justify_items": null,
            "grid_row": null,
            "max_height": null,
            "align_content": null,
            "visibility": null,
            "align_self": null,
            "height": null,
            "min_height": null,
            "padding": null,
            "grid_auto_rows": null,
            "grid_gap": null,
            "max_width": null,
            "order": null,
            "_view_module_version": "1.2.0",
            "grid_template_areas": null,
            "object_position": null,
            "object_fit": null,
            "grid_auto_columns": null,
            "margin": null,
            "display": null,
            "left": null
          },
          "model_module_version": "1.2.0"
        },
        "5d21a5930cb947db881736f59cd9714b": {
          "model_module": "@jupyter-widgets/controls",
          "model_name": "HBoxModel",
          "state": {
            "_view_name": "HBoxView",
            "_dom_classes": [],
            "_model_name": "HBoxModel",
            "_view_module": "@jupyter-widgets/controls",
            "_model_module_version": "1.5.0",
            "_view_count": null,
            "_view_module_version": "1.5.0",
            "box_style": "",
            "layout": "IPY_MODEL_6196a675453344eeb22766bf6d19f233",
            "_model_module": "@jupyter-widgets/controls",
            "children": [
              "IPY_MODEL_3793973e50bd4ae0bfc8186f7c796710",
              "IPY_MODEL_60fdc678833b431fbf31ff7a2fa073cd"
            ]
          },
          "model_module_version": "1.5.0"
        },
        "6196a675453344eeb22766bf6d19f233": {
          "model_module": "@jupyter-widgets/base",
          "model_name": "LayoutModel",
          "state": {
            "_view_name": "LayoutView",
            "grid_template_rows": null,
            "right": null,
            "justify_content": null,
            "_view_module": "@jupyter-widgets/base",
            "overflow": null,
            "_model_module_version": "1.2.0",
            "_view_count": null,
            "flex_flow": null,
            "width": null,
            "min_width": null,
            "border": null,
            "align_items": null,
            "bottom": null,
            "_model_module": "@jupyter-widgets/base",
            "top": null,
            "grid_column": null,
            "overflow_y": null,
            "overflow_x": null,
            "grid_auto_flow": null,
            "grid_area": null,
            "grid_template_columns": null,
            "flex": null,
            "_model_name": "LayoutModel",
            "justify_items": null,
            "grid_row": null,
            "max_height": null,
            "align_content": null,
            "visibility": null,
            "align_self": null,
            "height": null,
            "min_height": null,
            "padding": null,
            "grid_auto_rows": null,
            "grid_gap": null,
            "max_width": null,
            "order": null,
            "_view_module_version": "1.2.0",
            "grid_template_areas": null,
            "object_position": null,
            "object_fit": null,
            "grid_auto_columns": null,
            "margin": null,
            "display": null,
            "left": null
          },
          "model_module_version": "1.2.0"
        },
        "3793973e50bd4ae0bfc8186f7c796710": {
          "model_module": "@jupyter-widgets/controls",
          "model_name": "FloatProgressModel",
          "state": {
            "_view_name": "ProgressView",
            "style": "IPY_MODEL_dff9953772d94f399f9ddb11f36f576b",
            "_dom_classes": [],
            "description": "  0%",
            "_model_name": "FloatProgressModel",
            "bar_style": "info",
            "max": 1,
            "_view_module": "@jupyter-widgets/controls",
            "_model_module_version": "1.5.0",
            "value": 0,
            "_view_count": null,
            "_view_module_version": "1.5.0",
            "orientation": "horizontal",
            "min": 0,
            "description_tooltip": null,
            "_model_module": "@jupyter-widgets/controls",
            "layout": "IPY_MODEL_108e23c64e08451fbef55ae4b370eda8"
          },
          "model_module_version": "1.5.0"
        },
        "60fdc678833b431fbf31ff7a2fa073cd": {
          "model_module": "@jupyter-widgets/controls",
          "model_name": "HTMLModel",
          "state": {
            "_view_name": "HTMLView",
            "style": "IPY_MODEL_c05b6bbeee4645d497858c118a4bffdf",
            "_dom_classes": [],
            "description": "",
            "_model_name": "HTMLModel",
            "placeholder": "​",
            "_view_module": "@jupyter-widgets/controls",
            "_model_module_version": "1.5.0",
            "value": " 0/29515 [00:00&lt;?, ?it/s]",
            "_view_count": null,
            "_view_module_version": "1.5.0",
            "description_tooltip": null,
            "_model_module": "@jupyter-widgets/controls",
            "layout": "IPY_MODEL_db894dd26aed4f7b85aab6dbe77c80fe"
          },
          "model_module_version": "1.5.0"
        },
        "dff9953772d94f399f9ddb11f36f576b": {
          "model_module": "@jupyter-widgets/controls",
          "model_name": "ProgressStyleModel",
          "state": {
            "_view_name": "StyleView",
            "_model_name": "ProgressStyleModel",
            "description_width": "initial",
            "_view_module": "@jupyter-widgets/base",
            "_model_module_version": "1.5.0",
            "_view_count": null,
            "_view_module_version": "1.2.0",
            "bar_color": null,
            "_model_module": "@jupyter-widgets/controls"
          },
          "model_module_version": "1.5.0"
        },
        "108e23c64e08451fbef55ae4b370eda8": {
          "model_module": "@jupyter-widgets/base",
          "model_name": "LayoutModel",
          "state": {
            "_view_name": "LayoutView",
            "grid_template_rows": null,
            "right": null,
            "justify_content": null,
            "_view_module": "@jupyter-widgets/base",
            "overflow": null,
            "_model_module_version": "1.2.0",
            "_view_count": null,
            "flex_flow": null,
            "width": null,
            "min_width": null,
            "border": null,
            "align_items": null,
            "bottom": null,
            "_model_module": "@jupyter-widgets/base",
            "top": null,
            "grid_column": null,
            "overflow_y": null,
            "overflow_x": null,
            "grid_auto_flow": null,
            "grid_area": null,
            "grid_template_columns": null,
            "flex": null,
            "_model_name": "LayoutModel",
            "justify_items": null,
            "grid_row": null,
            "max_height": null,
            "align_content": null,
            "visibility": null,
            "align_self": null,
            "height": null,
            "min_height": null,
            "padding": null,
            "grid_auto_rows": null,
            "grid_gap": null,
            "max_width": null,
            "order": null,
            "_view_module_version": "1.2.0",
            "grid_template_areas": null,
            "object_position": null,
            "object_fit": null,
            "grid_auto_columns": null,
            "margin": null,
            "display": null,
            "left": null
          },
          "model_module_version": "1.2.0"
        },
        "c05b6bbeee4645d497858c118a4bffdf": {
          "model_module": "@jupyter-widgets/controls",
          "model_name": "DescriptionStyleModel",
          "state": {
            "_view_name": "StyleView",
            "_model_name": "DescriptionStyleModel",
            "description_width": "",
            "_view_module": "@jupyter-widgets/base",
            "_model_module_version": "1.5.0",
            "_view_count": null,
            "_view_module_version": "1.2.0",
            "_model_module": "@jupyter-widgets/controls"
          },
          "model_module_version": "1.5.0"
        },
        "db894dd26aed4f7b85aab6dbe77c80fe": {
          "model_module": "@jupyter-widgets/base",
          "model_name": "LayoutModel",
          "state": {
            "_view_name": "LayoutView",
            "grid_template_rows": null,
            "right": null,
            "justify_content": null,
            "_view_module": "@jupyter-widgets/base",
            "overflow": null,
            "_model_module_version": "1.2.0",
            "_view_count": null,
            "flex_flow": null,
            "width": null,
            "min_width": null,
            "border": null,
            "align_items": null,
            "bottom": null,
            "_model_module": "@jupyter-widgets/base",
            "top": null,
            "grid_column": null,
            "overflow_y": null,
            "overflow_x": null,
            "grid_auto_flow": null,
            "grid_area": null,
            "grid_template_columns": null,
            "flex": null,
            "_model_name": "LayoutModel",
            "justify_items": null,
            "grid_row": null,
            "max_height": null,
            "align_content": null,
            "visibility": null,
            "align_self": null,
            "height": null,
            "min_height": null,
            "padding": null,
            "grid_auto_rows": null,
            "grid_gap": null,
            "max_width": null,
            "order": null,
            "_view_module_version": "1.2.0",
            "grid_template_areas": null,
            "object_position": null,
            "object_fit": null,
            "grid_auto_columns": null,
            "margin": null,
            "display": null,
            "left": null
          },
          "model_module_version": "1.2.0"
        },
        "7f7d3975d19d451096b4fd8b8c109bb3": {
          "model_module": "@jupyter-widgets/controls",
          "model_name": "HBoxModel",
          "state": {
            "_view_name": "HBoxView",
            "_dom_classes": [],
            "_model_name": "HBoxModel",
            "_view_module": "@jupyter-widgets/controls",
            "_model_module_version": "1.5.0",
            "_view_count": null,
            "_view_module_version": "1.5.0",
            "box_style": "",
            "layout": "IPY_MODEL_d0a4a7b909314126b2e899b96c00ba32",
            "_model_module": "@jupyter-widgets/controls",
            "children": [
              "IPY_MODEL_3ca938b1cf8e498daf211367f58a7f10",
              "IPY_MODEL_5762654ea0ea49cd8e453626f92cee31"
            ]
          },
          "model_module_version": "1.5.0"
        },
        "d0a4a7b909314126b2e899b96c00ba32": {
          "model_module": "@jupyter-widgets/base",
          "model_name": "LayoutModel",
          "state": {
            "_view_name": "LayoutView",
            "grid_template_rows": null,
            "right": null,
            "justify_content": null,
            "_view_module": "@jupyter-widgets/base",
            "overflow": null,
            "_model_module_version": "1.2.0",
            "_view_count": null,
            "flex_flow": null,
            "width": null,
            "min_width": null,
            "border": null,
            "align_items": null,
            "bottom": null,
            "_model_module": "@jupyter-widgets/base",
            "top": null,
            "grid_column": null,
            "overflow_y": null,
            "overflow_x": null,
            "grid_auto_flow": null,
            "grid_area": null,
            "grid_template_columns": null,
            "flex": null,
            "_model_name": "LayoutModel",
            "justify_items": null,
            "grid_row": null,
            "max_height": null,
            "align_content": null,
            "visibility": null,
            "align_self": null,
            "height": null,
            "min_height": null,
            "padding": null,
            "grid_auto_rows": null,
            "grid_gap": null,
            "max_width": null,
            "order": null,
            "_view_module_version": "1.2.0",
            "grid_template_areas": null,
            "object_position": null,
            "object_fit": null,
            "grid_auto_columns": null,
            "margin": null,
            "display": null,
            "left": null
          },
          "model_module_version": "1.2.0"
        },
        "3ca938b1cf8e498daf211367f58a7f10": {
          "model_module": "@jupyter-widgets/controls",
          "model_name": "FloatProgressModel",
          "state": {
            "_view_name": "ProgressView",
            "style": "IPY_MODEL_09982e4408a04daa9d2b249c5255488c",
            "_dom_classes": [],
            "description": "",
            "_model_name": "FloatProgressModel",
            "bar_style": "info",
            "max": 1,
            "_view_module": "@jupyter-widgets/controls",
            "_model_module_version": "1.5.0",
            "value": 1,
            "_view_count": null,
            "_view_module_version": "1.5.0",
            "orientation": "horizontal",
            "min": 0,
            "description_tooltip": null,
            "_model_module": "@jupyter-widgets/controls",
            "layout": "IPY_MODEL_7704448dca7c42e8a63fdf1188ff05cb"
          },
          "model_module_version": "1.5.0"
        },
        "5762654ea0ea49cd8e453626f92cee31": {
          "model_module": "@jupyter-widgets/controls",
          "model_name": "HTMLModel",
          "state": {
            "_view_name": "HTMLView",
            "style": "IPY_MODEL_ebb0972c16c24f71a412136fc0b49727",
            "_dom_classes": [],
            "description": "",
            "_model_name": "HTMLModel",
            "placeholder": "​",
            "_view_module": "@jupyter-widgets/controls",
            "_model_module_version": "1.5.0",
            "value": " 4423680/? [00:17&lt;00:00, 1381564.51it/s]",
            "_view_count": null,
            "_view_module_version": "1.5.0",
            "description_tooltip": null,
            "_model_module": "@jupyter-widgets/controls",
            "layout": "IPY_MODEL_476c634439bc4aa0830ede8863ea0c71"
          },
          "model_module_version": "1.5.0"
        },
        "09982e4408a04daa9d2b249c5255488c": {
          "model_module": "@jupyter-widgets/controls",
          "model_name": "ProgressStyleModel",
          "state": {
            "_view_name": "StyleView",
            "_model_name": "ProgressStyleModel",
            "description_width": "initial",
            "_view_module": "@jupyter-widgets/base",
            "_model_module_version": "1.5.0",
            "_view_count": null,
            "_view_module_version": "1.2.0",
            "bar_color": null,
            "_model_module": "@jupyter-widgets/controls"
          },
          "model_module_version": "1.5.0"
        },
        "7704448dca7c42e8a63fdf1188ff05cb": {
          "model_module": "@jupyter-widgets/base",
          "model_name": "LayoutModel",
          "state": {
            "_view_name": "LayoutView",
            "grid_template_rows": null,
            "right": null,
            "justify_content": null,
            "_view_module": "@jupyter-widgets/base",
            "overflow": null,
            "_model_module_version": "1.2.0",
            "_view_count": null,
            "flex_flow": null,
            "width": null,
            "min_width": null,
            "border": null,
            "align_items": null,
            "bottom": null,
            "_model_module": "@jupyter-widgets/base",
            "top": null,
            "grid_column": null,
            "overflow_y": null,
            "overflow_x": null,
            "grid_auto_flow": null,
            "grid_area": null,
            "grid_template_columns": null,
            "flex": null,
            "_model_name": "LayoutModel",
            "justify_items": null,
            "grid_row": null,
            "max_height": null,
            "align_content": null,
            "visibility": null,
            "align_self": null,
            "height": null,
            "min_height": null,
            "padding": null,
            "grid_auto_rows": null,
            "grid_gap": null,
            "max_width": null,
            "order": null,
            "_view_module_version": "1.2.0",
            "grid_template_areas": null,
            "object_position": null,
            "object_fit": null,
            "grid_auto_columns": null,
            "margin": null,
            "display": null,
            "left": null
          },
          "model_module_version": "1.2.0"
        },
        "ebb0972c16c24f71a412136fc0b49727": {
          "model_module": "@jupyter-widgets/controls",
          "model_name": "DescriptionStyleModel",
          "state": {
            "_view_name": "StyleView",
            "_model_name": "DescriptionStyleModel",
            "description_width": "",
            "_view_module": "@jupyter-widgets/base",
            "_model_module_version": "1.5.0",
            "_view_count": null,
            "_view_module_version": "1.2.0",
            "_model_module": "@jupyter-widgets/controls"
          },
          "model_module_version": "1.5.0"
        },
        "476c634439bc4aa0830ede8863ea0c71": {
          "model_module": "@jupyter-widgets/base",
          "model_name": "LayoutModel",
          "state": {
            "_view_name": "LayoutView",
            "grid_template_rows": null,
            "right": null,
            "justify_content": null,
            "_view_module": "@jupyter-widgets/base",
            "overflow": null,
            "_model_module_version": "1.2.0",
            "_view_count": null,
            "flex_flow": null,
            "width": null,
            "min_width": null,
            "border": null,
            "align_items": null,
            "bottom": null,
            "_model_module": "@jupyter-widgets/base",
            "top": null,
            "grid_column": null,
            "overflow_y": null,
            "overflow_x": null,
            "grid_auto_flow": null,
            "grid_area": null,
            "grid_template_columns": null,
            "flex": null,
            "_model_name": "LayoutModel",
            "justify_items": null,
            "grid_row": null,
            "max_height": null,
            "align_content": null,
            "visibility": null,
            "align_self": null,
            "height": null,
            "min_height": null,
            "padding": null,
            "grid_auto_rows": null,
            "grid_gap": null,
            "max_width": null,
            "order": null,
            "_view_module_version": "1.2.0",
            "grid_template_areas": null,
            "object_position": null,
            "object_fit": null,
            "grid_auto_columns": null,
            "margin": null,
            "display": null,
            "left": null
          },
          "model_module_version": "1.2.0"
        },
        "ce68190e1803422a9cd2d2edc4d37679": {
          "model_module": "@jupyter-widgets/controls",
          "model_name": "HBoxModel",
          "state": {
            "_view_name": "HBoxView",
            "_dom_classes": [],
            "_model_name": "HBoxModel",
            "_view_module": "@jupyter-widgets/controls",
            "_model_module_version": "1.5.0",
            "_view_count": null,
            "_view_module_version": "1.5.0",
            "box_style": "",
            "layout": "IPY_MODEL_96e3c8f29bde4e478a3fdce16e328b5f",
            "_model_module": "@jupyter-widgets/controls",
            "children": [
              "IPY_MODEL_7f9877fcd41b4a4bb5a627e1e375902b",
              "IPY_MODEL_7eabc7bc7edc45a5a3af9a4ab1936aaa"
            ]
          },
          "model_module_version": "1.5.0"
        },
        "96e3c8f29bde4e478a3fdce16e328b5f": {
          "model_module": "@jupyter-widgets/base",
          "model_name": "LayoutModel",
          "state": {
            "_view_name": "LayoutView",
            "grid_template_rows": null,
            "right": null,
            "justify_content": null,
            "_view_module": "@jupyter-widgets/base",
            "overflow": null,
            "_model_module_version": "1.2.0",
            "_view_count": null,
            "flex_flow": null,
            "width": null,
            "min_width": null,
            "border": null,
            "align_items": null,
            "bottom": null,
            "_model_module": "@jupyter-widgets/base",
            "top": null,
            "grid_column": null,
            "overflow_y": null,
            "overflow_x": null,
            "grid_auto_flow": null,
            "grid_area": null,
            "grid_template_columns": null,
            "flex": null,
            "_model_name": "LayoutModel",
            "justify_items": null,
            "grid_row": null,
            "max_height": null,
            "align_content": null,
            "visibility": null,
            "align_self": null,
            "height": null,
            "min_height": null,
            "padding": null,
            "grid_auto_rows": null,
            "grid_gap": null,
            "max_width": null,
            "order": null,
            "_view_module_version": "1.2.0",
            "grid_template_areas": null,
            "object_position": null,
            "object_fit": null,
            "grid_auto_columns": null,
            "margin": null,
            "display": null,
            "left": null
          },
          "model_module_version": "1.2.0"
        },
        "7f9877fcd41b4a4bb5a627e1e375902b": {
          "model_module": "@jupyter-widgets/controls",
          "model_name": "FloatProgressModel",
          "state": {
            "_view_name": "ProgressView",
            "style": "IPY_MODEL_595216d22bf44a8a8a04b14db991664f",
            "_dom_classes": [],
            "description": "  0%",
            "_model_name": "FloatProgressModel",
            "bar_style": "info",
            "max": 1,
            "_view_module": "@jupyter-widgets/controls",
            "_model_module_version": "1.5.0",
            "value": 0,
            "_view_count": null,
            "_view_module_version": "1.5.0",
            "orientation": "horizontal",
            "min": 0,
            "description_tooltip": null,
            "_model_module": "@jupyter-widgets/controls",
            "layout": "IPY_MODEL_99c6bdd3baaf4c2fac61d407dc2d8a52"
          },
          "model_module_version": "1.5.0"
        },
        "7eabc7bc7edc45a5a3af9a4ab1936aaa": {
          "model_module": "@jupyter-widgets/controls",
          "model_name": "HTMLModel",
          "state": {
            "_view_name": "HTMLView",
            "style": "IPY_MODEL_24dbaadd7cc8496e8066b265c63912d7",
            "_dom_classes": [],
            "description": "",
            "_model_name": "HTMLModel",
            "placeholder": "​",
            "_view_module": "@jupyter-widgets/controls",
            "_model_module_version": "1.5.0",
            "value": " 0/5148 [00:00&lt;?, ?it/s]",
            "_view_count": null,
            "_view_module_version": "1.5.0",
            "description_tooltip": null,
            "_model_module": "@jupyter-widgets/controls",
            "layout": "IPY_MODEL_3e444db51b1348fbb7f5d67a44b0237a"
          },
          "model_module_version": "1.5.0"
        },
        "595216d22bf44a8a8a04b14db991664f": {
          "model_module": "@jupyter-widgets/controls",
          "model_name": "ProgressStyleModel",
          "state": {
            "_view_name": "StyleView",
            "_model_name": "ProgressStyleModel",
            "description_width": "initial",
            "_view_module": "@jupyter-widgets/base",
            "_model_module_version": "1.5.0",
            "_view_count": null,
            "_view_module_version": "1.2.0",
            "bar_color": null,
            "_model_module": "@jupyter-widgets/controls"
          },
          "model_module_version": "1.5.0"
        },
        "99c6bdd3baaf4c2fac61d407dc2d8a52": {
          "model_module": "@jupyter-widgets/base",
          "model_name": "LayoutModel",
          "state": {
            "_view_name": "LayoutView",
            "grid_template_rows": null,
            "right": null,
            "justify_content": null,
            "_view_module": "@jupyter-widgets/base",
            "overflow": null,
            "_model_module_version": "1.2.0",
            "_view_count": null,
            "flex_flow": null,
            "width": null,
            "min_width": null,
            "border": null,
            "align_items": null,
            "bottom": null,
            "_model_module": "@jupyter-widgets/base",
            "top": null,
            "grid_column": null,
            "overflow_y": null,
            "overflow_x": null,
            "grid_auto_flow": null,
            "grid_area": null,
            "grid_template_columns": null,
            "flex": null,
            "_model_name": "LayoutModel",
            "justify_items": null,
            "grid_row": null,
            "max_height": null,
            "align_content": null,
            "visibility": null,
            "align_self": null,
            "height": null,
            "min_height": null,
            "padding": null,
            "grid_auto_rows": null,
            "grid_gap": null,
            "max_width": null,
            "order": null,
            "_view_module_version": "1.2.0",
            "grid_template_areas": null,
            "object_position": null,
            "object_fit": null,
            "grid_auto_columns": null,
            "margin": null,
            "display": null,
            "left": null
          },
          "model_module_version": "1.2.0"
        },
        "24dbaadd7cc8496e8066b265c63912d7": {
          "model_module": "@jupyter-widgets/controls",
          "model_name": "DescriptionStyleModel",
          "state": {
            "_view_name": "StyleView",
            "_model_name": "DescriptionStyleModel",
            "description_width": "",
            "_view_module": "@jupyter-widgets/base",
            "_model_module_version": "1.5.0",
            "_view_count": null,
            "_view_module_version": "1.2.0",
            "_model_module": "@jupyter-widgets/controls"
          },
          "model_module_version": "1.5.0"
        },
        "3e444db51b1348fbb7f5d67a44b0237a": {
          "model_module": "@jupyter-widgets/base",
          "model_name": "LayoutModel",
          "state": {
            "_view_name": "LayoutView",
            "grid_template_rows": null,
            "right": null,
            "justify_content": null,
            "_view_module": "@jupyter-widgets/base",
            "overflow": null,
            "_model_module_version": "1.2.0",
            "_view_count": null,
            "flex_flow": null,
            "width": null,
            "min_width": null,
            "border": null,
            "align_items": null,
            "bottom": null,
            "_model_module": "@jupyter-widgets/base",
            "top": null,
            "grid_column": null,
            "overflow_y": null,
            "overflow_x": null,
            "grid_auto_flow": null,
            "grid_area": null,
            "grid_template_columns": null,
            "flex": null,
            "_model_name": "LayoutModel",
            "justify_items": null,
            "grid_row": null,
            "max_height": null,
            "align_content": null,
            "visibility": null,
            "align_self": null,
            "height": null,
            "min_height": null,
            "padding": null,
            "grid_auto_rows": null,
            "grid_gap": null,
            "max_width": null,
            "order": null,
            "_view_module_version": "1.2.0",
            "grid_template_areas": null,
            "object_position": null,
            "object_fit": null,
            "grid_auto_columns": null,
            "margin": null,
            "display": null,
            "left": null
          },
          "model_module_version": "1.2.0"
        }
      }
    }
  },
  "cells": [
    {
      "cell_type": "markdown",
      "metadata": {
        "id": "view-in-github",
        "colab_type": "text"
      },
      "source": [
        "<a href=\"https://colab.research.google.com/github/pmanoonpong/Imageprocessing/blob/main/Copy_of_EX1_Classification.ipynb\" target=\"_parent\"><img src=\"https://colab.research.google.com/assets/colab-badge.svg\" alt=\"Open In Colab\"/></a>"
      ]
    },
    {
      "cell_type": "markdown",
      "metadata": {
        "id": "FSng-rWEaXEe"
      },
      "source": [
        "# EX1 Classification with Deep CNN\n",
        "ในตัวอย่างนี้เราจะทำการสร้างโมเดล Deep convolution neural network ด้วย Pytorch เพื่อทำการ Classify Class บน FasionMNIST dataset\n",
        "\n",
        "**ในตัวอย่างนี้จะแบ่งเป็น 5 Section ดังนี้**\n",
        "\n",
        "1. เตรียมและทำความเข้าใจ Environment, Dataset \n",
        "\n",
        "2. สร้างโมเดล Deep CNN ด้วย Pytorch\n",
        "\n",
        "3. Training โมเดลด้วยชุดข้อมูล Training set ของ FashionMNIST Dataset\n",
        "\n",
        "4. Predict ผลลัพธ์ด้วยข้อมูลใน Validation/Test set และ Evaluation ผลลัพธ์ด้วย Accuracy และ Confusion matrix \n",
        "\n",
        "\n"
      ]
    },
    {
      "cell_type": "markdown",
      "metadata": {
        "id": "KuQg4sZartqR"
      },
      "source": [
        "#Section ที่ 1: เตรียมและทำความเข้าใจ Environment, Dataset \n",
        "**1.1 เริ่มต้นจากการ Import Library และ Package ต่างๆที่จำเป็น**"
      ]
    },
    {
      "cell_type": "code",
      "metadata": {
        "id": "tOPuyKV9aL9x"
      },
      "source": [
        "# ทำการ Import Library ที่จำเป็นสำหรับการสร้างโมเดล\n",
        "\n",
        "# Package พื้นฐานสำหรับโครงสร้าง Tensor และกระบวนทางคณิตศาสตร์ต่างๆ\n",
        "import torch\n",
        "\n",
        "# Package สำหรับการสร้าง Neural layer ใน Deep learning\n",
        "import torch.nn as nn\n",
        "# Package สำหรับ Minimize loss และ Update weight \n",
        "import torch.optim as optim \n",
        "# Package สำหรับการทำ Convolution operation, Maxpooling และอื่นๆภายใน\n",
        "import torch.nn.functional as F\n",
        "\n",
        "# Package สำหรับประมวลผลภาพ โดยจะมีข้อมูล Datasets, โครงสร้างข้อมูล, การ Transform ภาพที่จำเป็นอยู่ภายใน\n",
        "import torchvision\n",
        "# Package สำหรับการ Transform ภาพ\n",
        "import torchvision.transforms as transforms\n",
        "\n",
        "# ปรับรูปแบบการแสดงผลของ Output\n",
        "torch.set_printoptions(linewidth=120) \n",
        "# ตั้งค่าการติดตาม grad ของ torch.tensor\n",
        "torch.set_grad_enabled(True)\n",
        "\n",
        "# สำหรับการแสดงผลรูปภาพ\n",
        "import matplotlib.pyplot as plt\n",
        "# สำหรับประมวลผล Array\n",
        "import numpy as np\n",
        "\n",
        "# สำหรับการสร้าง Confusion matrix\n",
        "from sklearn.metrics import confusion_matrix # For confusion matrix visualization\n",
        "#from resources.plotcm import plot_confusion_matrix\n",
        "\n",
        "# iteration tools\n",
        "import itertools\n"
      ],
      "execution_count": null,
      "outputs": []
    },
    {
      "cell_type": "markdown",
      "metadata": {
        "id": "HeLzVLQlzPfl"
      },
      "source": [
        "**1.2 ดาวโหลดและตรวจสอบฐานข้อมูลที่จะนำมาใช้**\n",
        "โดยฐานข้อมูลที่จะนำมาใช้เพื่อ Train network ในตัวอย่างนี้คือ FasionMNIST datasets \n",
        "\n",
        "โดยข้อมูลจะต้องผ่านกระบวนการ\n",
        "1. Extract ข้อมูลจากแหล่งข้อมูล (เช่น website)\n",
        "2. Transform แปลงข้อมูลให้อยู่ใน Format ที่ต้องการ (ในที่นี้คือ torch.Tensor)\n",
        "3. Loader โหลดข้อมูลที่แปลงแล้วมาอยู่ในรูปแบบ Structure ที่สามารถส่งเข้าสู่ network ได้"
      ]
    },
    {
      "cell_type": "code",
      "metadata": {
        "id": "Hl_pk4FiWAgA",
        "colab": {
          "base_uri": "https://localhost:8080/",
          "height": 366,
          "referenced_widgets": [
            "f43bdd9cabc24297953a3a73f6163a39",
            "c6574ebc6e4d49a296e36b9635ae53cc",
            "42292464919f4243b53269ab92114806",
            "6a681ffcbefc4dfd88f5c70329ace668",
            "f3f2b81d339746e19ddd85fb06235578",
            "0bbaa43afed341a0823b21ca849c989d",
            "f825475c852e4a7f8ef9b13111b79c75",
            "c69d252b07334cf690c1c207af4edc8c",
            "5d21a5930cb947db881736f59cd9714b",
            "6196a675453344eeb22766bf6d19f233",
            "3793973e50bd4ae0bfc8186f7c796710",
            "60fdc678833b431fbf31ff7a2fa073cd",
            "dff9953772d94f399f9ddb11f36f576b",
            "108e23c64e08451fbef55ae4b370eda8",
            "c05b6bbeee4645d497858c118a4bffdf",
            "db894dd26aed4f7b85aab6dbe77c80fe",
            "7f7d3975d19d451096b4fd8b8c109bb3",
            "d0a4a7b909314126b2e899b96c00ba32",
            "3ca938b1cf8e498daf211367f58a7f10",
            "5762654ea0ea49cd8e453626f92cee31",
            "09982e4408a04daa9d2b249c5255488c",
            "7704448dca7c42e8a63fdf1188ff05cb",
            "ebb0972c16c24f71a412136fc0b49727",
            "476c634439bc4aa0830ede8863ea0c71",
            "ce68190e1803422a9cd2d2edc4d37679",
            "96e3c8f29bde4e478a3fdce16e328b5f",
            "7f9877fcd41b4a4bb5a627e1e375902b",
            "7eabc7bc7edc45a5a3af9a4ab1936aaa",
            "595216d22bf44a8a8a04b14db991664f",
            "99c6bdd3baaf4c2fac61d407dc2d8a52",
            "24dbaadd7cc8496e8066b265c63912d7",
            "3e444db51b1348fbb7f5d67a44b0237a"
          ]
        },
        "outputId": "4c1b1dd1-757a-42a1-e811-3cfb2896111a"
      },
      "source": [
        "# ดาวโหลดฐานข้อมูล Fashion MNIST ลงมาบน Directory \n",
        "\n",
        "# โครงสร้างข้อมูลนี้เป็น Sub-class ของ torch.utils.data.Dataset\n",
        "train_set = torchvision.datasets.FashionMNIST(root='./data' ,train=True \n",
        "                                              ,download=True       #1. Extract : extract ฐานข้อมูลออกมาจาก url ภายใน\n",
        "                                              ,transform=transforms.Compose([transforms.ToTensor()])  #2. Transform : ฐานข้อมูลให้อยู่ในรูป Tensor\n",
        ") \n",
        "test_set = torchvision.datasets.FashionMNIST(root='./data' ,train=False \n",
        "                                              ,download=True       \n",
        "                                              ,transform=transforms.Compose([transforms.ToTensor()])  \n",
        ") \n",
        "\n",
        "batch_s = 100 # กำหนดขนาด Batch ในชุดข้อมูล Dataloader = 100 ภาพต่อ batch\n",
        "\n",
        "validation_ratio = 0.2 # กำหนดอัตราส่วนของ Validation test set\n",
        "train_ratio = 1-validation_ratio\n",
        "full_train_size = len(train_set) # 60000\n",
        "split_point_train = int(full_train_size*train_ratio)\n",
        "\n",
        "\n",
        "\n",
        "torch.manual_seed(1)\n",
        "indices = torch.randperm(full_train_size).tolist()\n",
        "\n",
        "train_set_split      = torch.utils.data.Subset(train_set,indices[:split_point_train])\n",
        "validation_set_split = torch.utils.data.Subset(train_set,indices[split_point_train:])\n",
        "\n",
        "\n",
        "train_size = len(train_set_split)\n",
        "validation_size = len(validation_set_split)\n",
        "test_size = int(len(test_set))\n",
        "\n",
        "\n",
        "\n",
        "#3. Loader : โหลดข้อมูลเข้าสู่ torch.utils.data.Dataloader \n",
        "train_loader = torch.utils.data.DataLoader(train_set_split, batch_size=batch_s)\n",
        "validation_loader = torch.utils.data.DataLoader(validation_set_split, batch_size=batch_s)\n",
        "test_loader = torch.utils.data.DataLoader(test_set ,batch_size=batch_s) "
      ],
      "execution_count": null,
      "outputs": [
        {
          "output_type": "stream",
          "text": [
            "Downloading http://fashion-mnist.s3-website.eu-central-1.amazonaws.com/train-images-idx3-ubyte.gz to ./data/FashionMNIST/raw/train-images-idx3-ubyte.gz\n"
          ],
          "name": "stdout"
        },
        {
          "output_type": "display_data",
          "data": {
            "application/vnd.jupyter.widget-view+json": {
              "model_id": "f43bdd9cabc24297953a3a73f6163a39",
              "version_minor": 0,
              "version_major": 2
            },
            "text/plain": [
              "HBox(children=(FloatProgress(value=1.0, bar_style='info', max=1.0), HTML(value='')))"
            ]
          },
          "metadata": {
            "tags": []
          }
        },
        {
          "output_type": "stream",
          "text": [
            "Extracting ./data/FashionMNIST/raw/train-images-idx3-ubyte.gz to ./data/FashionMNIST/raw\n",
            "Downloading http://fashion-mnist.s3-website.eu-central-1.amazonaws.com/train-labels-idx1-ubyte.gz to ./data/FashionMNIST/raw/train-labels-idx1-ubyte.gz\n"
          ],
          "name": "stdout"
        },
        {
          "output_type": "display_data",
          "data": {
            "application/vnd.jupyter.widget-view+json": {
              "model_id": "5d21a5930cb947db881736f59cd9714b",
              "version_minor": 0,
              "version_major": 2
            },
            "text/plain": [
              "HBox(children=(FloatProgress(value=1.0, bar_style='info', max=1.0), HTML(value='')))"
            ]
          },
          "metadata": {
            "tags": []
          }
        },
        {
          "output_type": "stream",
          "text": [
            "Extracting ./data/FashionMNIST/raw/train-labels-idx1-ubyte.gz to ./data/FashionMNIST/raw\n",
            "Downloading http://fashion-mnist.s3-website.eu-central-1.amazonaws.com/t10k-images-idx3-ubyte.gz to ./data/FashionMNIST/raw/t10k-images-idx3-ubyte.gz\n"
          ],
          "name": "stdout"
        },
        {
          "output_type": "display_data",
          "data": {
            "application/vnd.jupyter.widget-view+json": {
              "model_id": "7f7d3975d19d451096b4fd8b8c109bb3",
              "version_minor": 0,
              "version_major": 2
            },
            "text/plain": [
              "HBox(children=(FloatProgress(value=1.0, bar_style='info', max=1.0), HTML(value='')))"
            ]
          },
          "metadata": {
            "tags": []
          }
        },
        {
          "output_type": "stream",
          "text": [
            "Extracting ./data/FashionMNIST/raw/t10k-images-idx3-ubyte.gz to ./data/FashionMNIST/raw\n",
            "Downloading http://fashion-mnist.s3-website.eu-central-1.amazonaws.com/t10k-labels-idx1-ubyte.gz to ./data/FashionMNIST/raw/t10k-labels-idx1-ubyte.gz\n"
          ],
          "name": "stdout"
        },
        {
          "output_type": "display_data",
          "data": {
            "application/vnd.jupyter.widget-view+json": {
              "model_id": "ce68190e1803422a9cd2d2edc4d37679",
              "version_minor": 0,
              "version_major": 2
            },
            "text/plain": [
              "HBox(children=(FloatProgress(value=1.0, bar_style='info', max=1.0), HTML(value='')))"
            ]
          },
          "metadata": {
            "tags": []
          }
        },
        {
          "output_type": "stream",
          "text": [
            "Extracting ./data/FashionMNIST/raw/t10k-labels-idx1-ubyte.gz to ./data/FashionMNIST/raw\n",
            "Processing...\n"
          ],
          "name": "stdout"
        },
        {
          "output_type": "stream",
          "text": [
            "/usr/local/lib/python3.6/dist-packages/torchvision/datasets/mnist.py:469: UserWarning: The given NumPy array is not writeable, and PyTorch does not support non-writeable tensors. This means you can write to the underlying (supposedly non-writeable) NumPy array using the tensor. You may want to copy the array to protect its data or make it writeable before converting it to a tensor. This type of warning will be suppressed for the rest of this program. (Triggered internally at  /pytorch/torch/csrc/utils/tensor_numpy.cpp:141.)\n",
            "  return torch.from_numpy(parsed.astype(m[2], copy=False)).view(*s)\n"
          ],
          "name": "stderr"
        },
        {
          "output_type": "stream",
          "text": [
            "Done!\n"
          ],
          "name": "stdout"
        }
      ]
    },
    {
      "cell_type": "markdown",
      "metadata": {
        "id": "_DUsDNe7ztw1"
      },
      "source": [
        "**1.3 ทำความเข้าใจ, ตรวจสอบข้อมูลใน Loader และนำมาแสดงผล (Data visualization)**\n",
        "\n",
        "ในแต่ละ batch พบว่าเป็น list ซึ่งมี Element สองตัว\n",
        "- element แรกเป็น Tensor ซึ่งมีรายละเอียดดังนี้\n",
        "1. มิติ 0 บรรจุภาพไว้ 100 ภาพ\n",
        "2. มิติ 1 จำนวน Channel ของภาพ (ในที่นี้เป็น 1 เนื่องจากเป็นภาพขาวดำ)\n",
        "3. มิติ 2 width pixel ของภาพ\n",
        "4. มิติ 3 height pixel ของภาพ\n",
        "\n",
        "- element ที่สองเป็น Tensor ซึ่งเก็บ labels 0-9 ซึ่งบ่งบอกชนิดของ class ที่ต้องการทำนาย"
      ]
    },
    {
      "cell_type": "code",
      "metadata": {
        "id": "F5V8nu6b2S1V",
        "colab": {
          "base_uri": "https://localhost:8080/",
          "height": 151
        },
        "outputId": "f630d862-bb8b-4641-e1b0-44cb98d89363"
      },
      "source": [
        "batch = next(iter(train_loader)) # train_loader สามารถวนลูปเพื่อหยิบ batch ย่อยๆออกมาได้ (Iterable object)\n",
        "\n",
        "print(\"batch type:\",type(batch))\n",
        "print(\"batch len :\",len(batch))\n",
        "\n",
        "images, labels = batch\n",
        "# ตรวจสอบ dimension ของ images, labels\n",
        "print(\"\\n\"+\"images size is\",images.shape)\n",
        "print(\"labels size is\",labels.shape )\n",
        "\n",
        "# ตรวจสอบ element แต่ละตัวภายใน images, labels\n",
        "#print(\"images element\",images)\n",
        "print(\"labels element:\",labels)"
      ],
      "execution_count": null,
      "outputs": [
        {
          "output_type": "stream",
          "text": [
            "batch type: <class 'list'>\n",
            "batch len : 2\n",
            "\n",
            "images size is torch.Size([100, 1, 28, 28])\n",
            "labels size is torch.Size([100])\n",
            "labels element: tensor([2, 7, 6, 1, 6, 0, 3, 8, 8, 8, 6, 7, 1, 3, 9, 4, 1, 6, 9, 2, 9, 6, 3, 2, 2, 2, 6, 5, 0, 1, 4, 6, 6, 0, 9, 8, 6,\n",
            "        6, 9, 1, 9, 5, 1, 9, 5, 5, 7, 5, 6, 0, 1, 8, 3, 1, 8, 3, 8, 0, 3, 6, 3, 4, 0, 5, 2, 1, 3, 7, 3, 0, 3, 2, 1, 2,\n",
            "        9, 8, 0, 1, 6, 1, 5, 4, 9, 1, 9, 8, 0, 6, 4, 0, 3, 4, 9, 0, 6, 8, 0, 4, 7, 5])\n"
          ],
          "name": "stdout"
        }
      ]
    },
    {
      "cell_type": "markdown",
      "metadata": {
        "id": "p86xxSZO8U8d"
      },
      "source": [
        "**1.4 ทดลองแสดงข้อมูลออกมาในรูปแบบภาพ และ Labels class**"
      ]
    },
    {
      "cell_type": "code",
      "metadata": {
        "id": "EqJpcu8Czs-0",
        "colab": {
          "base_uri": "https://localhost:8080/",
          "height": 408
        },
        "outputId": "ffecc8c5-248f-4688-c074-fc8b9daa4acc"
      },
      "source": [
        "# แสดงผลภาพ 10 ภาพและ labels 10 ตัวแรกของชุดข้อมูล batch แรก\n",
        "\n",
        "image_visualize = torchvision.utils.make_grid(images[:10],nrow=5,pad_value = 1)\n",
        "plt.figure(figsize=(15,15))\n",
        "plt.imshow(np.transpose(image_visualize,(1,2,0)))\n",
        "print(\"Labels of each images:\",labels[:10])"
      ],
      "execution_count": null,
      "outputs": [
        {
          "output_type": "stream",
          "text": [
            "Labels of each images: tensor([2, 7, 6, 1, 6, 0, 3, 8, 8, 8])\n"
          ],
          "name": "stdout"
        },
        {
          "output_type": "display_data",
          "data": {
            "image/png": "[encoded data removed]",
            "text/plain": [
              "<Figure size 1080x1080 with 1 Axes>"
            ]
          },
          "metadata": {
            "tags": [],
            "needs_background": "light"
          }
        }
      ]
    },
    {
      "cell_type": "markdown",
      "metadata": {
        "id": "ZMm_lIJ89KeR"
      },
      "source": [
        "เมื่อเราเข้าใจโครงสร้างของข้อมูลที่เราจะนำมา feed เข้าโมเดลเราแล้ว ลำดับถัดไปคือการสร้างโมเดลสำหรับ train ข้อมูล"
      ]
    },
    {
      "cell_type": "markdown",
      "metadata": {
        "id": "f5Iw4BLdl_Xp"
      },
      "source": [
        "# Section ที่: 2 สร้างโมเดล Deep CNN ด้วย Pytorch\n",
        "\n",
        "- สำหรับ Pytorch นั้นจะมีการสร้างโมเดลโดยใช้หลักการ Inheritance class \n",
        "เพื่อความสะดวกในการกำหนด Hyperparameter และโครงสร้างของ Neural network\n",
        "\n",
        "- โดย Parent class คือ nn.module \n",
        "- และ Child class คือ Net ซึ่งจะมี Hyperparameter และ Structure ต่างๆของ Neural อยู่ภายใน\n",
        "\n",
        "สิ่งที่เราต้องกำหนดเพิ่มประกอบด้วย Instant variable รวมถึง Method ดังนี้\n",
        "- ต้องกำหนด dunder init method เพื่อระบุ Layer และ Hyperparameter ต่างๆของ Neural network\n",
        "- ต้อง define forward method เพื่อทำการ Feedforward Neural network\n",
        "\n"
      ]
    },
    {
      "cell_type": "code",
      "metadata": {
        "id": "4xgWXiS5l5VL"
      },
      "source": [
        "class Net(nn.Module): \n",
        "    def __init__(self):\n",
        "        super().__init__()\n",
        "        # in_channels คือจำนวน channels ของรูปภาพที่ถูก feed เข้ามาใน network (1 = ภาพขาวดำ)\n",
        "        self.conv1 = nn.Conv2d(in_channels=1, out_channels=6, kernel_size=5)\n",
        "        self.conv2 = nn.Conv2d(in_channels=6, out_channels=12, kernel_size=5)\n",
        "        \n",
        "        self.fc1 = nn.Linear(in_features = 12*4*4, out_features = 120)\n",
        "        self.fc2 = nn.Linear(in_features = 120, out_features = 60)\n",
        "        self.out = nn.Linear(in_features = 60, out_features = 10)\n",
        "\n",
        "    def forward(self,input_to_neural):\n",
        "        #(1) input layer\n",
        "        f_t = input_to_neural\n",
        "        \n",
        "        #(2) hidden conv layer\n",
        "        f_t = self.conv1(f_t) \n",
        "        f_t = F.relu(f_t) \n",
        "        f_t = F.max_pool2d(f_t,kernel_size=2, stride = 2)\n",
        "        \n",
        "        #(3) hidden conv layer\n",
        "        f_t = self.conv2(f_t)\n",
        "        f_t = F.relu(f_t)\n",
        "        f_t = F.max_pool2d(f_t,kernel_size=2, stride = 2)\n",
        "        \n",
        "        #(4) hidden linear layer\n",
        "        f_t = f_t.reshape(-1,12*4*4) # Flatten input ให้กลายเป็น Tensor มิติเดียว\n",
        "        f_t = self.fc1(f_t) # กำหนด Fully connect layer\n",
        "        f_t = F.relu(f_t) # กำหนด Activation function เป็น Rectified linear unit\n",
        "        \n",
        "        #(5) hidden linear layer\n",
        "        f_t = self.fc2(f_t)\n",
        "        f_t = F.relu(f_t)\n",
        "        \n",
        "        #(6) output layer\n",
        "        f_t = self.out(f_t)\n",
        "\n",
        "        return f_t"
      ],
      "execution_count": null,
      "outputs": []
    },
    {
      "cell_type": "markdown",
      "metadata": {
        "id": "x2vclikCErop"
      },
      "source": [
        "#Section ที่: 3 Training โมเดลด้วยชุดข้อมูล Training set ของ FashionMNIST Dataset\n",
        "- Feed training set ของเราเข้าไปในโมเดลเพื่อให้โมเดลทำการเรียนรู้ weight ที่เหมาะสมที่สุด ซึ่งสามารถ minimize loss ได้\n",
        "\n",
        "3.1 Feedforward ค่า Input ผ่านเข้าไปยัง Neural network\n",
        "\n",
        "3.2 คำนวณหาค่า loss\n",
        "\n",
        "3.3 Backpropogates ค่า Gradients กลับมายังค่า weight ใน Neural network layer ต่างๆโดยใช้กระบวนการ SGD (หรือ Optimizer ตัวอื่นๆเช่น ADAM)\n",
        "\n",
        "3.4 นำ Gradient ที่ได้มาปรับค่า Weight\n",
        "\n",
        "3.5 ทำการวนลูปโดย 2-5 โดยใช้จำนวน Epoch ในการกำหนดครั้งในการวนลูป หรือใช้ Loss เป็นเงื่อนไขในการหยุดวนลูป"
      ]
    },
    {
      "cell_type": "code",
      "metadata": {
        "id": "_RxHN60yKtFI",
        "colab": {
          "base_uri": "https://localhost:8080/",
          "height": 185
        },
        "outputId": "750552bd-bf5c-42f7-fd2d-4be790aac2b4"
      },
      "source": [
        "network = Net() # สร้าง Object Deep convolution neural network ตามที่ define ไว้ใน Class Net\n",
        "\n",
        "# ระบุ Optimizer ที่ต้องการใช้ (ในที่นี้ใช้ SGD)\n",
        "optimizer = optim.SGD(network.parameters(), lr=0.1) # Learning rate = 0.1\n",
        "\n",
        "for epoch in range(10):\n",
        "    \n",
        "    total_loss = 0\n",
        "    total_correct = 0\n",
        "\n",
        "    for batch in train_loader:\n",
        "\n",
        "        images, labels = batch\n",
        "\n",
        "        # ( ขั้นตอนที่ 3.1 ) Feedforward ค่า Input ผ่านเข้าไปยัง Neural network\n",
        "        preds = network(images) \n",
        "        # ____________________________________________________________\n",
        "\n",
        "        # ( ขั้นตอนที่ 3.2 ) คำนวนหาค่า Loss\n",
        "        loss = F.cross_entropy(preds, labels) \n",
        "        #_____________________________________________________________\n",
        "\n",
        "        optimizer.zero_grad() #reset ค่าใน grad ให้เป็น 0 ก่อนคำนวนค่าใหม่ (default ของ grad จะทำการ accumulate ค่าไปเรื่อยๆ)\n",
        "\n",
        "        # ( ขั้นตอนที่ 3.3 ) Backpropogates ค่า Gradients ของ weight แต่ละตัวใน Neural network layer ต่างๆโดยใช้กระบวนการ SGD (หรือ Optimizer ตัวอื่นๆเช่น ADAM)\n",
        "        loss.backward() \n",
        "        #_____________________________________________________________\n",
        "\n",
        "        # ( ขั้นตอนที่ 3.4 ) Updates ค่า weights ของ Network จาก Gradients ที่ได้\n",
        "        optimizer.step() \n",
        "        #_____________________________________________________________\n",
        "\n",
        "\n",
        "        total_loss += loss.item() #รับข้อมูลจากค่าที่อยู่ใน tensor 0 มิติและบวกเข้าไปใน loss ทั้งหมด\n",
        "\n",
        "        # ( ขั้นตอนที่ 3.5 ) วนลูปตามจำนวน Epochs ที่ได้ตั้งไว้\n",
        "        \n",
        "    print(\"epoch:\", epoch+1,\"total_loss_in_batch:\", total_loss )"
      ],
      "execution_count": null,
      "outputs": [
        {
          "output_type": "stream",
          "text": [
            "epoch: 1 total_loss_in_batch: 623.5471002161503\n",
            "epoch: 2 total_loss_in_batch: 275.51110062003136\n",
            "epoch: 3 total_loss_in_batch: 230.77275803685188\n",
            "epoch: 4 total_loss_in_batch: 205.59873369336128\n",
            "epoch: 5 total_loss_in_batch: 187.48274920880795\n",
            "epoch: 6 total_loss_in_batch: 174.73120641708374\n",
            "epoch: 7 total_loss_in_batch: 165.15017607808113\n",
            "epoch: 8 total_loss_in_batch: 157.51086547970772\n",
            "epoch: 9 total_loss_in_batch: 151.09381365776062\n",
            "epoch: 10 total_loss_in_batch: 145.61040657758713\n"
          ],
          "name": "stdout"
        }
      ]
    },
    {
      "cell_type": "markdown",
      "metadata": {
        "id": "h7DVZ9rAFH6Y"
      },
      "source": [
        "จากขั้นตอนดังกล่าว โมเดลเราจะได้ค่า weight มาเป็นที่เรียบร้อย ขั้นตอนถัดไปจะทดสอบความแม่นยำของ model ที่ได้สร้างขึ้นมา"
      ]
    },
    {
      "cell_type": "markdown",
      "metadata": {
        "id": "Yi8iUX1vFSPD"
      },
      "source": [
        "#Section ที่: 4 Predict ผลลัพธ์ด้วยข้อมูลใน Validation/Test set และ Evaluation ผลลัพธ์ด้วย Accuracy และ Confusion matrix \n",
        "\n",
        "- ผลลัพธ์ที่ได้ออกมาจากการทำนาย จะมีลักษณะเป็น Tensor ขนาด nxm \n",
        "โดยที่ n คือจำนวน Data และ m คือจำนวน Class ซึ่งทำนายออกมาในลักษณะของความน่าจะเป็น\n",
        "\n",
        "**4.1 Predict ผลลัพธ์ด้วยข้อมูลใน Test Loader**\n"
      ]
    },
    {
      "cell_type": "code",
      "metadata": {
        "id": "HrwCnTTXu42Z",
        "colab": {
          "base_uri": "https://localhost:8080/",
          "height": 34
        },
        "outputId": "edb79a4f-bd9e-42f3-885a-c89caad5f955"
      },
      "source": [
        "predict = network(images) # รูปแบบการ Predict จะกระทำในลักษณะของ Feedforward\n",
        "print(predict.shape)"
      ],
      "execution_count": null,
      "outputs": [
        {
          "output_type": "stream",
          "text": [
            "torch.Size([100, 10])\n"
          ],
          "name": "stdout"
        }
      ]
    },
    {
      "cell_type": "markdown",
      "metadata": {
        "id": "fvxizUitvRvI"
      },
      "source": [
        "จะได้ tensor สองมิติโดย\n",
        "- มิติแรกมีขนาด 100 (ขนาด batch) \n",
        "- มิติที่สองมีขนาด 10 (ความน่าจะเป็นในการ predict แต่ละ class)"
      ]
    },
    {
      "cell_type": "code",
      "metadata": {
        "id": "Tprn5WNHF84_"
      },
      "source": [
        "# เขียน Function สำหรับ Predict ผลลัพธ์ที่ได้ออกมาจากโมเดล โดยจะเลือก index ที่มีความน่าจะเป็นมากที่สุด\n",
        "# จากนั้นนำค่าที่ predict และ labels ทั้งหมดมาต่อเป็น Tensor ผลลัพธ์ที่รวมการ predict ทุก batch ไว้ด้วยกัน\n",
        " \n",
        "@torch.no_grad() # ไม่ใช้ความสามารถของ autograd ในขั้นตอนนี้\n",
        "def get_preds_labels(model, loader):\n",
        "    all_preds = torch.tensor([])\n",
        "    all_labels = torch.tensor([])\n",
        "    for batch in loader:\n",
        "        images, labels = batch\n",
        "\n",
        "        preds = model(images)\n",
        "        preds_label = preds.argmax(dim=1).float()\n",
        "\n",
        "        all_preds = torch.cat((all_preds, preds_label))\n",
        "        all_labels = torch.cat((all_labels, labels.float()))\n",
        "\n",
        "\n",
        "    return all_preds,all_labels"
      ],
      "execution_count": null,
      "outputs": []
    },
    {
      "cell_type": "code",
      "metadata": {
        "id": "6yoaZi3NqjSD"
      },
      "source": [
        "all_preds, all_labels = get_preds_labels(network,test_loader)"
      ],
      "execution_count": null,
      "outputs": []
    },
    {
      "cell_type": "markdown",
      "metadata": {
        "id": "Jd4rXOi4xfCy"
      },
      "source": [
        "**4.2 Evaluation ผลลัพธ์ด้วย Accuracy**"
      ]
    },
    {
      "cell_type": "code",
      "metadata": {
        "id": "wQ0C6K-op7Y-",
        "colab": {
          "base_uri": "https://localhost:8080/",
          "height": 34
        },
        "outputId": "e9d70a07-ff6e-4550-a0c9-6cd32c27589d"
      },
      "source": [
        "total_correct_predict = sum(all_preds == all_labels).item() \n",
        "accuracy = total_correct_predict/ validation_size\n",
        "print(\"Model มีความ Accuracy เท่ากับ\",100*accuracy,\"%\")"
      ],
      "execution_count": null,
      "outputs": [
        {
          "output_type": "stream",
          "text": [
            "Model มีความ Accuracy เท่ากับ 72.93333333333332 %\n"
          ],
          "name": "stdout"
        }
      ]
    },
    {
      "cell_type": "markdown",
      "metadata": {
        "id": "f10vHJABy0VW"
      },
      "source": [
        "**4.3 Evaluation ผลลัพธ์ด้วย Confusion matrix**"
      ]
    },
    {
      "cell_type": "code",
      "metadata": {
        "id": "UFCFM99UoGMb"
      },
      "source": [
        "stacked = torch.stack((all_labels,all_preds),dim=1) # นำ Tensor prediction และ labels มา stack กันเพื่อเตรียมใช้เป็นข้อมูลสำหรับสร้าง Confusion matrix"
      ],
      "execution_count": null,
      "outputs": []
    },
    {
      "cell_type": "code",
      "metadata": {
        "id": "3gT4mkSPn_Dc"
      },
      "source": [
        "con_matrix = torch.zeros(10,10,dtype=torch.int64)"
      ],
      "execution_count": null,
      "outputs": []
    },
    {
      "cell_type": "code",
      "metadata": {
        "id": "l7u9cX3OxSm4"
      },
      "source": [
        "# สร้าง Confusion matrix ในรูปแบบ Row/Column\n",
        "for e in stacked:\n",
        "  label,predict = [int(el) for el in (e.tolist())]\n",
        "  con_matrix[label,predict] = con_matrix[label,predict]+1"
      ],
      "execution_count": null,
      "outputs": []
    },
    {
      "cell_type": "code",
      "metadata": {
        "id": "deO98EfT0iTL",
        "colab": {
          "base_uri": "https://localhost:8080/",
          "height": 185
        },
        "outputId": "d459791b-75c0-439f-ee1f-120bd1c2e81c"
      },
      "source": [
        "con_matrix"
      ],
      "execution_count": null,
      "outputs": [
        {
          "output_type": "execute_result",
          "data": {
            "text/plain": [
              "tensor([[748,   3,  14,  73,   4,   1, 145,   0,  10,   2],\n",
              "        [  0, 972,   0,  22,   2,   0,   3,   0,   1,   0],\n",
              "        [ 13,   4, 745,  14, 138,   0,  83,   0,   3,   0],\n",
              "        [  8,   5,   9, 916,  32,   0,  27,   0,   3,   0],\n",
              "        [  0,   1,  46,  22, 856,   1,  69,   0,   5,   0],\n",
              "        [  0,   0,   0,   2,   0, 950,   0,  34,   0,  14],\n",
              "        [ 96,   0,  64,  40,  86,   0, 692,   0,  22,   0],\n",
              "        [  0,   0,   0,   0,   0,  14,   0, 942,   0,  44],\n",
              "        [  0,   1,   9,   5,   4,   2,   4,   5, 970,   0],\n",
              "        [  0,   0,   0,   0,   0,   7,   0,  31,   1, 961]])"
            ]
          },
          "metadata": {
            "tags": []
          },
          "execution_count": 17
        }
      ]
    },
    {
      "cell_type": "code",
      "metadata": {
        "id": "8AXxpx1R0yXs"
      },
      "source": [
        "classes = test_set.classes # สร้าง list ของ class สำหรับส่งเข้าไปในฟังก์ชันช่วย plot confusion matrix"
      ],
      "execution_count": null,
      "outputs": []
    },
    {
      "cell_type": "code",
      "metadata": {
        "id": "GibmJnzE0J-Z",
        "colab": {
          "base_uri": "https://localhost:8080/",
          "height": 185
        },
        "outputId": "af77d528-67cc-4cf4-fd63-fb26216a7632"
      },
      "source": [
        "classes"
      ],
      "execution_count": null,
      "outputs": [
        {
          "output_type": "execute_result",
          "data": {
            "text/plain": [
              "['T-shirt/top',\n",
              " 'Trouser',\n",
              " 'Pullover',\n",
              " 'Dress',\n",
              " 'Coat',\n",
              " 'Sandal',\n",
              " 'Shirt',\n",
              " 'Sneaker',\n",
              " 'Bag',\n",
              " 'Ankle boot']"
            ]
          },
          "metadata": {
            "tags": []
          },
          "execution_count": 19
        }
      ]
    },
    {
      "cell_type": "code",
      "metadata": {
        "id": "zIg5FCQqCQT_"
      },
      "source": [
        "# Function ช่วยในการ Plot Confusion matrix โดยใช้ข้อมูลจาก con_matrix\n",
        "def plot_confusion_matrix(cm, classes, normalize=False, title='Confusion matrix', cmap=plt.cm.Blues):\n",
        "    if normalize:\n",
        "        cm = cm.astype('float') / cm.sum(axis=1)[:, np.newaxis]\n",
        "        print(\"Normalized confusion matrix\")\n",
        "    else:\n",
        "        print('Confusion matrix, without normalization')\n",
        "\n",
        "    print(cm)\n",
        "    plt.imshow(cm, interpolation='nearest', cmap=cmap)\n",
        "    plt.title(title)\n",
        "    plt.colorbar()\n",
        "    tick_marks = np.arange(len(classes))\n",
        "    plt.xticks(tick_marks, classes, rotation=45)\n",
        "    plt.yticks(tick_marks, classes)\n",
        "\n",
        "    fmt = '.2f' if normalize else 'd'\n",
        "    thresh = cm.max() / 2.\n",
        "    for i, j in itertools.product(range(cm.shape[0]), range(cm.shape[1])):\n",
        "        plt.text(j, i, format(cm[i, j], fmt), horizontalalignment=\"center\", color=\"white\" if cm[i, j] > thresh else \"black\")\n",
        "\n",
        "    plt.tight_layout()\n",
        "    plt.ylabel('True label')\n",
        "    plt.xlabel('Predicted label')"
      ],
      "execution_count": null,
      "outputs": []
    },
    {
      "cell_type": "code",
      "metadata": {
        "id": "cOu_ai52D3gs",
        "colab": {
          "base_uri": "https://localhost:8080/",
          "height": 914
        },
        "outputId": "bd807dbb-e9a6-4dcb-e3f5-9c2de1774612"
      },
      "source": [
        "plt.figure(figsize=(10,10))\n",
        "plot_confusion_matrix(con_matrix, classes)"
      ],
      "execution_count": null,
      "outputs": [
        {
          "output_type": "stream",
          "text": [
            "Confusion matrix, without normalization\n",
            "tensor([[748,   3,  14,  73,   4,   1, 145,   0,  10,   2],\n",
            "        [  0, 972,   0,  22,   2,   0,   3,   0,   1,   0],\n",
            "        [ 13,   4, 745,  14, 138,   0,  83,   0,   3,   0],\n",
            "        [  8,   5,   9, 916,  32,   0,  27,   0,   3,   0],\n",
            "        [  0,   1,  46,  22, 856,   1,  69,   0,   5,   0],\n",
            "        [  0,   0,   0,   2,   0, 950,   0,  34,   0,  14],\n",
            "        [ 96,   0,  64,  40,  86,   0, 692,   0,  22,   0],\n",
            "        [  0,   0,   0,   0,   0,  14,   0, 942,   0,  44],\n",
            "        [  0,   1,   9,   5,   4,   2,   4,   5, 970,   0],\n",
            "        [  0,   0,   0,   0,   0,   7,   0,  31,   1, 961]])\n"
          ],
          "name": "stdout"
        },
        {
          "output_type": "display_data",
          "data": {
            "image/png": "[encoded data removed]",
            "text/plain": [
              "<Figure size 720x720 with 2 Axes>"
            ]
          },
          "metadata": {
            "tags": [],
            "needs_background": "light"
          }
        }
      ]
    },
    {
      "cell_type": "markdown",
      "metadata": {
        "id": "Ng714RraGb-3"
      },
      "source": [
        "# สรุปผล\n",
        "- รูปแบบการประมวลผลดังกล่าวสามารถประยุกต์ใช้กับงาน Classification เพื่อตรวจสอบความสามารถในการ Predict Class รวมทั้งตรวจสอบจุดอ่อนในโมเดลได้โดยสะดวกมากยิ่งขึ้น\n",
        "- จาก Confusion matrix จะพบว่า Shirt และ T-Shirt มีค่า Precition และ Recall ที่ค่อนข้างต่ำกว่า Classes อื่น ซึ่งเราสามารถนำข้อมูล ณ จุดนี้มาพัฒนาโมเดลของเราต่อไปได้\n",
        "\n"
      ]
    },
    {
      "cell_type": "markdown",
      "metadata": {
        "id": "LTs4S1rjG347"
      },
      "source": [
        "# - - - - - - - - - - - - - - - - - - - - - - - - QUIZ - - - - - - - - - - - -- - - - - - - - - - - -"
      ]
    },
    {
      "cell_type": "markdown",
      "metadata": {
        "id": "i6z4pBrT0SdJ"
      },
      "source": [
        "1. จงทดลองสร้างโมเดล Deep neural network เพื่อทำการเทรนโมเดลสำหรับ Classification บน FashionMNIST Dataset\n",
        "\n",
        "โดยโมเดล มี Requirement ดังนี้\n",
        "- Input layer เป็น Tensor ขนาด (N,num_in) โดย N แทนจำนวนภาพทั้งหมดใน 1 batch และ num_in เป็น Tensor ภาพที่ถูก Flatten ให้เหลือเพียง 1 มิติ\n",
        "- มีจำนวน Hidden layer จำนวน 2 Layer\n",
        "- Hidden Layer ที่หนึ่งมีขนาด Neural จำนวน 200 Neural มี Activation Function เป็น Sigmoid Function\n",
        "- Hidden Layer ที่สองมีขนาด Neural จำนวน 60 Neural มี Activation Function เป็น Sigmoid Function\n",
        "- Output Layer เป็นความน่าจะเป็นที่จะ Predict Class แต่ละ Class ออกมาในรูปแบบเลข 0-1\n",
        "\n",
        "\n",
        "จากนั้นจงทำการ Train model โดยใช้ Optimizer ที่ชื่อว่า SGD ด้วย learning rate 0.1 และจำนวน Epoch ทั้งหมด 10 Epoch\n",
        "\n",
        "และทำการ Predict ตรวจสอบ Accuracy ของโมเดลที่ได้\n",
        "\n",
        "- ข้อแนะนำ: ให้ทำการเปิด document API ของ PyTorch ควบคู่กันไปขณะทำ Exercise นี้"
      ]
    },
    {
      "cell_type": "code",
      "metadata": {
        "id": "o4SMRF419XT_"
      },
      "source": [
        "class my_network(nn.Module): \n",
        "    def __init__(self):\n",
        "        super().__init__()\n",
        "        \n",
        "        self.fc1 = nn.Linear(in_features = ???????? , out_features = ????????)\n",
        "        self.fc2 = nn.Linear(in_features = ???????? , out_features = ????????)\n",
        "        self.out = nn.Linear(in_features = ???????? , out_features = ????????)\n",
        "\n",
        "    def forward(self,input_to_neural):\n",
        "        f_t = input_to_neural\n",
        "        f_t = ?????????????  # flatten หรือ reshape input ให้มีขนาดตาม Requirment ของ nn.Linear\n",
        "        \n",
        "        # hidden layer ที่ 1\n",
        "        f_t = self.fc1(f_t)\n",
        "        f_t = ???????????? # กำหนด Activation function sigmoid\n",
        "        \n",
        "        # hidden layer ที่ 2\n",
        "        f_t = self.fc2(f_t)\n",
        "        f_t = ???????????\n",
        "        \n",
        "        # output layer\n",
        "        f_t = self.out(f_t)\n",
        "\n",
        "        return f_t"
      ],
      "execution_count": null,
      "outputs": []
    },
    {
      "cell_type": "code",
      "metadata": {
        "id": "X0FR6alu-RsI"
      },
      "source": [
        "My_Network = my_network() \n",
        "\n",
        "optimizer = ?????????? # กำหนด Optimizer SGD ให้ My_Network ด้วย Learning rate ที่โจทย์กำหนด\n",
        "\n",
        "for epoch in range( ????? ): # กำหนด Epoch \n",
        "    \n",
        "    total_loss = 0\n",
        "    total_correct = 0\n",
        "\n",
        "    for batch in train_loader:\n",
        "\n",
        "        images, labels = batch\n",
        "        preds = My_Network(images) \n",
        "        loss = F.cross_entropy(preds, labels) \n",
        "        optimizer.zero_grad() #reset ค่าใน grad ให้เป็น 0 ก่อนคำนวนค่าใหม่ (default ของ grad จะทำการ accumulate ค่าไปเรื่อยๆ)\n",
        "        loss.backward() \n",
        "        optimizer.step() \n",
        "        total_loss += loss.item() \n",
        "\n",
        "        # วนลูปตามจำนวน Epochs ที่ได้ตั้งไว้\n",
        "        \n",
        "    print(\"epoch:\", epoch+1,\"total_loss_in_batch:\", total_loss )"
      ],
      "execution_count": null,
      "outputs": []
    },
    {
      "cell_type": "code",
      "metadata": {
        "id": "d5sxKlh0-vnu"
      },
      "source": [
        "predict = My_Network(images) \n",
        "all_preds, all_labels = get_preds_labels(My_Network,test_loader)\n",
        "total_correct_predict = sum(all_preds == all_labels).item() \n",
        "accuracy = total_correct_predict/ validation_size\n",
        "print(\"Model มีความ Accuracy เท่ากับ\",100*accuracy,\"%\")"
      ],
      "execution_count": null,
      "outputs": []
    },
    {
      "cell_type": "markdown",
      "metadata": {
        "id": "bNoKd2Bk9Tdx"
      },
      "source": [
        "# - - - - - - - - - - - - - - - - - - - - - - - - เฉลย - - - - - - - - - - - -- - - - - - - - - - - -"
      ]
    },
    {
      "cell_type": "code",
      "metadata": {
        "id": "t9Olq22F0aqh"
      },
      "source": [
        "class my_network(nn.Module): \n",
        "    def __init__(self):\n",
        "        super().__init__()\n",
        "        \n",
        "        self.fc1 = nn.Linear(in_features = 784, out_features = 200)\n",
        "        self.fc2 = nn.Linear(in_features = 200, out_features = 60)\n",
        "        self.out = nn.Linear(in_features = 60, out_features = 10)\n",
        "\n",
        "    def forward(self,input_to_neural):\n",
        "        f_t = input_to_neural\n",
        "        f_t = torch.flatten(f_t,start_dim=1) # Flatten input ให้กลายเป็น Tensor มิติเดียว\n",
        "        \n",
        "        f_t = self.fc1(f_t) # กำหนด Fully connect layer\n",
        "        f_t = torch.sigmoid(f_t) # กำหนด Activation function เป็น Sigmoid\n",
        "        #(5) hidden linear layer\n",
        "        f_t = self.fc2(f_t)\n",
        "        f_t = torch.sigmoid(f_t)\n",
        "        \n",
        "        #(6) output layer\n",
        "        f_t = self.out(f_t)\n",
        "\n",
        "        return f_t"
      ],
      "execution_count": null,
      "outputs": []
    },
    {
      "cell_type": "code",
      "metadata": {
        "id": "ZQe-oCuI2ozz",
        "colab": {
          "base_uri": "https://localhost:8080/",
          "height": 185
        },
        "outputId": "f41d754a-9460-4e64-ceaf-b69e67a7e554"
      },
      "source": [
        "My_Network = my_network() \n",
        "\n",
        "optimizer = optim.SGD(My_Network.parameters(), lr=0.1) \n",
        "\n",
        "for epoch in range(10):\n",
        "    \n",
        "    total_loss = 0\n",
        "    total_correct = 0\n",
        "\n",
        "    for batch in train_loader:\n",
        "\n",
        "        images, labels = batch\n",
        "\n",
        "        preds = My_Network(images) \n",
        "\n",
        "        loss = F.cross_entropy(preds, labels) \n",
        "\n",
        "        optimizer.zero_grad() #reset ค่าใน grad ให้เป็น 0 ก่อนคำนวนค่าใหม่ (default ของ grad จะทำการ accumulate ค่าไปเรื่อยๆ)\n",
        "\n",
        "        loss.backward() \n",
        "        optimizer.step() \n",
        "        total_loss += loss.item() #รับข้อมูลจากค่าที่อยู่ใน tensor 0 มิติและบวกเข้าไปใน loss ทั้งหมด\n",
        "\n",
        "        # วนลูปตามจำนวน Epochs ที่ได้ตั้งไว้\n",
        "        \n",
        "    print(\"epoch:\", epoch+1,\"total_loss_in_batch:\", total_loss )"
      ],
      "execution_count": null,
      "outputs": [
        {
          "output_type": "stream",
          "text": [
            "epoch: 1 total_loss_in_batch: 1009.4917145967484\n",
            "epoch: 2 total_loss_in_batch: 584.8127088546753\n",
            "epoch: 3 total_loss_in_batch: 446.6893775463104\n",
            "epoch: 4 total_loss_in_batch: 368.1405837535858\n",
            "epoch: 5 total_loss_in_batch: 320.77993083000183\n",
            "epoch: 6 total_loss_in_batch: 294.6831544339657\n",
            "epoch: 7 total_loss_in_batch: 276.4106014370918\n",
            "epoch: 8 total_loss_in_batch: 262.3352288007736\n",
            "epoch: 9 total_loss_in_batch: 251.14074218273163\n",
            "epoch: 10 total_loss_in_batch: 241.9728957414627\n"
          ],
          "name": "stdout"
        }
      ]
    },
    {
      "cell_type": "code",
      "metadata": {
        "id": "di4_0wru3B_M",
        "colab": {
          "base_uri": "https://localhost:8080/",
          "height": 34
        },
        "outputId": "6e4c92af-23ad-4ac2-97bb-95c634b8e313"
      },
      "source": [
        "predict = My_Network(images) \n",
        "all_preds, all_labels = get_preds_labels(My_Network,test_loader)\n",
        "total_correct_predict = sum(all_preds == all_labels).item() \n",
        "accuracy = total_correct_predict/ validation_size\n",
        "print(\"Model มีความ Accuracy เท่ากับ\",100*accuracy,\"%\")"
      ],
      "execution_count": null,
      "outputs": [
        {
          "output_type": "stream",
          "text": [
            "Model มีความ Accuracy เท่ากับ 67.43333333333334 %\n"
          ],
          "name": "stdout"
        }
      ]
    },
    {
      "cell_type": "code",
      "metadata": {
        "id": "AFv8E1Yp-6Gj"
      },
      "source": [
        "stacked = torch.stack((all_labels,all_preds),dim=1) # นำ Tensor prediction และ labels มา stack กันเพื่อเตรียมใช้เป็นข้อมูลสำหรับสร้าง Confusion matrix\n",
        "con_matrix = torch.zeros(10,10,dtype=torch.int64)\n",
        "# สร้าง Confusion matrix ในรูปแบบ Row/Column\n",
        "for e in stacked:\n",
        "  label,predict = [int(el) for el in (e.tolist())]\n",
        "  con_matrix[label,predict] = con_matrix[label,predict]+1"
      ],
      "execution_count": null,
      "outputs": []
    },
    {
      "cell_type": "code",
      "metadata": {
        "id": "h99Ev6T3-_lX",
        "colab": {
          "base_uri": "https://localhost:8080/",
          "height": 914
        },
        "outputId": "5205623c-80a9-4d31-d2bc-c1e3c5c4f642"
      },
      "source": [
        "plt.figure(figsize=(10,10))\n",
        "plot_confusion_matrix(con_matrix, classes)"
      ],
      "execution_count": null,
      "outputs": [
        {
          "output_type": "stream",
          "text": [
            "Confusion matrix, without normalization\n",
            "tensor([[751,   3,   6,  93,   4,   2, 127,   0,  14,   0],\n",
            "        [  0, 929,  13,  47,   5,   0,   4,   0,   2,   0],\n",
            "        [ 14,   1, 631,  10, 215,   0, 119,   0,  10,   0],\n",
            "        [ 30,   9,   8, 839,  44,   0,  65,   0,   5,   0],\n",
            "        [  0,   0,  66,  29, 825,   0,  74,   0,   6,   0],\n",
            "        [  0,   0,   0,   1,   0, 869,   0,  68,  12,  50],\n",
            "        [138,   2, 110,  55, 188,   1, 473,   0,  33,   0],\n",
            "        [  0,   0,   0,   0,   0,  31,   0, 895,   0,  74],\n",
            "        [  0,   1,   4,   7,   3,   6,  38,   4, 935,   2],\n",
            "        [  0,   0,   0,   0,   0,  16,   0,  37,   2, 945]])\n"
          ],
          "name": "stdout"
        },
        {
          "output_type": "display_data",
          "data": {
            "image/png": "[encoded data removed]",
            "text/plain": [
              "<Figure size 720x720 with 2 Axes>"
            ]
          },
          "metadata": {
            "tags": [],
            "needs_background": "light"
          }
        }
      ]
    }
  ]
}